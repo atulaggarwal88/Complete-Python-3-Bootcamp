{
 "cells": [
  {
   "cell_type": "markdown",
   "metadata": {},
   "source": [
    "___\n",
    "\n",
    "<a href='https://www.udemy.com/user/joseportilla/'><img src='../Pierian_Data_Logo.png'/></a>\n",
    "___\n",
    "<center><em>Content Copyright by Pierian Data</em></center>"
   ]
  },
  {
   "cell_type": "markdown",
   "metadata": {},
   "source": [
    "# PDFs and Spreadsheets Puzzle Exercise\n",
    "\n",
    "Let's test your skills, the files needed for this puzzle exercise\n",
    "\n",
    "You will need to work with two files for this exercise and solve the following tasks:\n",
    "\n",
    "* Task One: Use Python to extract the Google Drive link from the .csv file. (Hint: Its along the diagonal from top left to bottom right).\n",
    "* Task Two: Download the PDF from the Google Drive link (we already downloaded it for you just in case you can't download from Google Drive) and find the phone number that is in the document. Note: There are different ways of formatting a phone number!"
   ]
  },
  {
   "cell_type": "markdown",
   "metadata": {},
   "source": [
    "## Task One: Grab the Google Drive Link from .csv File"
   ]
  },
  {
   "cell_type": "code",
   "execution_count": 1,
   "metadata": {},
   "outputs": [],
   "source": [
    "import csv"
   ]
  },
  {
   "cell_type": "code",
   "execution_count": 2,
   "metadata": {},
   "outputs": [
    {
     "data": {
      "text/plain": [
       "'E:\\\\atul\\\\personal\\\\PythonWorkSpace\\\\Complete-Python-3-Bootcamp\\\\15-PDFs-and-Spreadsheets'"
      ]
     },
     "execution_count": 2,
     "metadata": {},
     "output_type": "execute_result"
    }
   ],
   "source": [
    "pwd"
   ]
  },
  {
   "cell_type": "code",
   "execution_count": 3,
   "metadata": {},
   "outputs": [],
   "source": [
    "def read_csv_to_list(file_path):\n",
    "    data_lines = []\n",
    "    with open(file_path) as f:\n",
    "        csv_data = csv.reader(f)\n",
    "        data_lines = list(csv_data)\n",
    "        \n",
    "    return data_lines\n",
    "        "
   ]
  },
  {
   "cell_type": "code",
   "execution_count": 5,
   "metadata": {},
   "outputs": [
    {
     "name": "stdout",
     "output_type": "stream",
     "text": [
      "66\n"
     ]
    }
   ],
   "source": [
    "data_lines = read_csv_to_list(\"Exercise_Files\\\\find_the_link.csv\")\n",
    "print(len(data_lines))"
   ]
  },
  {
   "cell_type": "code",
   "execution_count": 71,
   "metadata": {},
   "outputs": [
    {
     "name": "stdout",
     "output_type": "stream",
     "text": [
      "https://drive.google.com/open?id=1G6SEgg018UB4_4xsAJJ5TdzrhmXipr4Q\n"
     ]
    }
   ],
   "source": [
    "url_list = []\n",
    "for line_num in range(len(data_lines)):    \n",
    "    url_list.append(data_lines[line_num][line_num])\n",
    "    \n",
    "    \n",
    "url_str = \"\".join(url_list)\n",
    "print(url_str)"
   ]
  },
  {
   "cell_type": "code",
   "execution_count": 16,
   "metadata": {},
   "outputs": [],
   "source": [
    "import requests\n",
    "\n",
    "requests"
   ]
  },
  {
   "cell_type": "code",
   "execution_count": 14,
   "metadata": {},
   "outputs": [
    {
     "data": {
      "text/plain": [
       "'https://drive.google.com/open?id=1G6SEgg018UB4_4xsAJJ5TdzrhmXipr4Q'"
      ]
     },
     "execution_count": 14,
     "metadata": {},
     "output_type": "execute_result"
    }
   ],
   "source": [
    "# THe correct result is shown below, if you can't download from Google Drive, \n",
    "# we added the PDF file to the Exercise_Files folder already"
   ]
  },
  {
   "cell_type": "markdown",
   "metadata": {},
   "source": [
    "## Task Two: Download the PDF from the Google Drive link and find the phone number that is in the document. "
   ]
  },
  {
   "cell_type": "code",
   "execution_count": 1,
   "metadata": {
    "collapsed": true
   },
   "outputs": [],
   "source": [
    "# You should get this phone number\n",
    "# 505 503 4455"
   ]
  },
  {
   "cell_type": "code",
   "execution_count": 7,
   "metadata": {},
   "outputs": [],
   "source": [
    "import PyPDF2"
   ]
  },
  {
   "cell_type": "code",
   "execution_count": 14,
   "metadata": {},
   "outputs": [],
   "source": [
    "def read_pdfdata_to_list(file_path):\n",
    "    with open(file_path, \"rb\") as pdf_file:\n",
    "        pdf_reader = PyPDF2.PdfFileReader(pdf_file)\n",
    "\n",
    "        pdf_text_list = []\n",
    "\n",
    "        for page_no in range(pdf_reader.numPages):\n",
    "            #print(page_no)\n",
    "            page = pdf_reader.getPage(page_no)\n",
    "            pdf_text_list.append(page.extractText())\n",
    "\n",
    "        return pdf_text_list"
   ]
  },
  {
   "cell_type": "code",
   "execution_count": 48,
   "metadata": {},
   "outputs": [
    {
     "name": "stdout",
     "output_type": "stream",
     "text": [
      "\n",
      "Technologically savvy can you slack\n",
      " \n",
      "it to me? drink from the firehose, synergestic \n",
      "actionables. Obviously this is a no\n",
      "-\n",
      "brainer, so what about scaling components to a \n",
      "global audience?, so dunder mifflin regroup. We need to get all stakeholders up to \n",
      "speed and in the right place knowledge is \n",
      "power circle back around, yet horsehead offer \n",
      "red flag we need this overall to be busier and more active hit the ground running. Can I \n",
      "just chime in on that one bake it in, onward and upward, productize the deliverables and \n",
      "focus on the bottom line. Deploy\n",
      ". Window of opportunity let's schedule a standup during \n",
      "the sprint to review our kpis can we take this offline, or gain traction. Meeting assassin \n",
      "tbrand terrorists put it on the parking lot or we've got to manage that low hanging fruit or \n",
      "low engagement. \n",
      "Meeting assassin hire the best yet we need distributors to evangelize \n",
      "the new line to local markets, or corporate synergy nor face time. What do you feel you \n",
      "would bring to the table if you were hired for this position synergestic actionables yet \n",
      "work flow\n",
      "s , nor marketing computer development html roi feedback team website what \n",
      "do you feel you would bring to the table if you were hired for this position dear hiring \n",
      "manager:. Can you ballpark the cost per unit for me. Five\n",
      "-\n",
      "year strategic plan shotgun \n",
      "approa\n",
      "ch, it just needs more cowbell. Out of the loop player\n",
      "-\n",
      "coach. What's our go to \n",
      "market strategy?.\n",
      " \n",
      " \n",
      " \n",
      "Not the long pole in my tent beef up, or accountable talk yet bleeding edge, so sorry i \n",
      "didn't get your email. All hands on deck we need to harvest synergy e\n",
      "ffects, big data \n",
      "what's the status on the deliverables for eow? Can you call Saul Goodman for me? His \n",
      "phone number is 505.503.4455. So horsehead offer. Talk to the slides no scraps hit the \n",
      "floor window\n",
      "-\n",
      "licker. Nail it down who's responsible for the ask for\n",
      " \n",
      "this request? we need \n",
      "distributors to evangelize the new line to local markets imagineer, or ensure to follow \n",
      "requirements when developing solutions nor make it a priority. Out of scope drink from \n",
      "the firehose, or shoot me an email nor we don't need to bo\n",
      "il the ocean here strategic fit, \n",
      "nor prairie dogging. Bottleneck mice quick\n",
      "-\n",
      "win to be inspired is to become creative, \n",
      "innovative and energized we want this philosophy to trickle down to all our stakeholders \n",
      "or synergestic actionables. I don't want to drain\n",
      " \n",
      "the whole swamp, i just want to shoot \n",
      "some alligators cannibalize, and define the underlying principles that drive decisions \n",
      "and strategy for your design language so I just wanted to give you a heads\n",
      "-\n",
      "up, or \n",
      "churning anomalies but ultimate measure of succe\n",
      "ss yet first\n",
      "-\n",
      "order optimal strategies. If \n",
      "you want to motivate these clowns, try less carrot and more stick drill down focus on the \n",
      "customer journey feature creep after I ran into Helen at a restaurant, I realized she was \n",
      "just office pretty not a hill to d\n",
      "ie on yet pro\n",
      "-\n",
      "sumer software. Come up with something \n",
      "buzzworthy can you put it on my calendar? gage [sic] where the industry is heading and \n",
      "\n",
      "ask, yet in this space so criti\n",
      "cality horsehead offer. Gain traction onward and upward, \n",
      "productize the deliverables and focus on the bottom line for pro\n",
      "-\n",
      "sumer software, we just \n",
      "need to put these last issues to bed, and we have to leverage up the messaging forcing \n",
      "\n",
      "17\n"
     ]
    }
   ],
   "source": [
    "pdfdata_list = read_pdfdata_to_list(\"Exercise_Files\\\\Find_the_Phone_Number.pdf\") \n",
    "print(pdfdata_list[13])\n",
    "print(len(pdfdata_list))"
   ]
  },
  {
   "cell_type": "code",
   "execution_count": 68,
   "metadata": {},
   "outputs": [],
   "source": [
    "import re\n",
    "\n",
    "def find_phone_number_from_datastring(data_string):\n",
    "    pattern = re.compile(r\"(\\d{3})\\D?(\\d{3})\\D?(\\d{4})\")\n",
    "    #data_string = \"i stay in victoria. Melbourne is the capital of Victoria. My phone number is 505.503.4455\"\n",
    "    match_list = []\n",
    "    \n",
    "    for match in re.finditer(pattern, data_string):\n",
    "        match_list.append(match.group())\n",
    "    \n",
    "    return match_list\n",
    "\n",
    "#print(find_phone_number_from_datastring(''))"
   ]
  },
  {
   "cell_type": "code",
   "execution_count": 69,
   "metadata": {},
   "outputs": [
    {
     "name": "stdout",
     "output_type": "stream",
     "text": [
      "[[], [], [], [], [], [], [], [], [], [], [], [], [], ['505.503.4455'], [], [], []]\n"
     ]
    }
   ],
   "source": [
    "telephonenum_list = []\n",
    "for counter in range(len(pdfdata_list)):\n",
    "    telephonenum_list.append(find_phone_number_from_datastring(pdfdata_list[counter]))\n",
    "    \n",
    "print(telephonenum_list)"
   ]
  }
 ],
 "metadata": {
  "anaconda-cloud": {},
  "kernelspec": {
   "display_name": "devenv",
   "language": "python",
   "name": "devenv"
  },
  "language_info": {
   "codemirror_mode": {
    "name": "ipython",
    "version": 3
   },
   "file_extension": ".py",
   "mimetype": "text/x-python",
   "name": "python",
   "nbconvert_exporter": "python",
   "pygments_lexer": "ipython3",
   "version": "3.8.5"
  }
 },
 "nbformat": 4,
 "nbformat_minor": 2
}
